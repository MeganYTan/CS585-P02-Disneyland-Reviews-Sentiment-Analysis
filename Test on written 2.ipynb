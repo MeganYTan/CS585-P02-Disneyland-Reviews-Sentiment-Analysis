{
 "cells": [
  {
   "cell_type": "code",
   "execution_count": 1,
   "id": "466b742b",
   "metadata": {},
   "outputs": [
    {
     "data": {
      "text/html": [
       "<div>\n",
       "<style scoped>\n",
       "    .dataframe tbody tr th:only-of-type {\n",
       "        vertical-align: middle;\n",
       "    }\n",
       "\n",
       "    .dataframe tbody tr th {\n",
       "        vertical-align: top;\n",
       "    }\n",
       "\n",
       "    .dataframe thead th {\n",
       "        text-align: right;\n",
       "    }\n",
       "</style>\n",
       "<table border=\"1\" class=\"dataframe\">\n",
       "  <thead>\n",
       "    <tr style=\"text-align: right;\">\n",
       "      <th></th>\n",
       "      <th>Content</th>\n",
       "      <th>Category</th>\n",
       "    </tr>\n",
       "  </thead>\n",
       "  <tbody>\n",
       "    <tr>\n",
       "      <th>0</th>\n",
       "      <td>get cheap pills online</td>\n",
       "      <td>SPAM</td>\n",
       "    </tr>\n",
       "    <tr>\n",
       "      <th>1</th>\n",
       "      <td>online pharmacy pills fast</td>\n",
       "      <td>SPAM</td>\n",
       "    </tr>\n",
       "    <tr>\n",
       "      <th>2</th>\n",
       "      <td>online pills fast shipment</td>\n",
       "      <td>SPAM</td>\n",
       "    </tr>\n",
       "    <tr>\n",
       "      <th>3</th>\n",
       "      <td>my pills prescription</td>\n",
       "      <td>HAM</td>\n",
       "    </tr>\n",
       "    <tr>\n",
       "      <th>4</th>\n",
       "      <td>shipment not fast</td>\n",
       "      <td>HAM</td>\n",
       "    </tr>\n",
       "    <tr>\n",
       "      <th>5</th>\n",
       "      <td>order pills online</td>\n",
       "      <td>SPAM</td>\n",
       "    </tr>\n",
       "    <tr>\n",
       "      <th>6</th>\n",
       "      <td>fast pills delivery</td>\n",
       "      <td>SPAM</td>\n",
       "    </tr>\n",
       "    <tr>\n",
       "      <th>7</th>\n",
       "      <td>this online pharmacy</td>\n",
       "      <td>HAM</td>\n",
       "    </tr>\n",
       "    <tr>\n",
       "      <th>8</th>\n",
       "      <td>take your pills</td>\n",
       "      <td>HAM</td>\n",
       "    </tr>\n",
       "    <tr>\n",
       "      <th>9</th>\n",
       "      <td>get your pills cheap</td>\n",
       "      <td>SPAM</td>\n",
       "    </tr>\n",
       "    <tr>\n",
       "      <th>10</th>\n",
       "      <td>my online order</td>\n",
       "      <td>HAM</td>\n",
       "    </tr>\n",
       "  </tbody>\n",
       "</table>\n",
       "</div>"
      ],
      "text/plain": [
       "                       Content Category\n",
       "0       get cheap pills online     SPAM\n",
       "1   online pharmacy pills fast     SPAM\n",
       "2   online pills fast shipment     SPAM\n",
       "3        my pills prescription      HAM\n",
       "4            shipment not fast      HAM\n",
       "5           order pills online     SPAM\n",
       "6          fast pills delivery     SPAM\n",
       "7         this online pharmacy      HAM\n",
       "8              take your pills      HAM\n",
       "9         get your pills cheap     SPAM\n",
       "10             my online order      HAM"
      ]
     },
     "execution_count": 1,
     "metadata": {},
     "output_type": "execute_result"
    }
   ],
   "source": [
    "import pandas as pd\n",
    "\n",
    "# Creating the dataframe from the given information\n",
    "data = {\n",
    "    \"Content\": [\n",
    "        \"get cheap pills online\",\n",
    "        \"online pharmacy pills fast\",\n",
    "        \"online pills fast shipment\",\n",
    "        \"my pills prescription\",\n",
    "        \"shipment not fast\",\n",
    "        \"order pills online\",\n",
    "        \"fast pills delivery\",\n",
    "        \"this online pharmacy\",\n",
    "        \"take your pills\",\n",
    "        \"get your pills cheap\",\n",
    "        \"my online order\"\n",
    "    ],\n",
    "    \"Category\": [\n",
    "        \"SPAM\",\n",
    "        \"SPAM\",\n",
    "        \"SPAM\",\n",
    "        \"HAM\",\n",
    "        \"HAM\",\n",
    "        \"SPAM\",\n",
    "        \"SPAM\",\n",
    "        \"HAM\",\n",
    "        \"HAM\",\n",
    "        \"SPAM\",\n",
    "        \"HAM\"\n",
    "    ]\n",
    "}\n",
    "\n",
    "df = pd.DataFrame(data)\n",
    "df"
   ]
  },
  {
   "cell_type": "code",
   "execution_count": 2,
   "id": "96f2b0d4",
   "metadata": {},
   "outputs": [
    {
     "data": {
      "text/html": [
       "<div>\n",
       "<style scoped>\n",
       "    .dataframe tbody tr th:only-of-type {\n",
       "        vertical-align: middle;\n",
       "    }\n",
       "\n",
       "    .dataframe tbody tr th {\n",
       "        vertical-align: top;\n",
       "    }\n",
       "\n",
       "    .dataframe thead th {\n",
       "        text-align: right;\n",
       "    }\n",
       "</style>\n",
       "<table border=\"1\" class=\"dataframe\">\n",
       "  <thead>\n",
       "    <tr style=\"text-align: right;\">\n",
       "      <th></th>\n",
       "      <th>Content</th>\n",
       "      <th>Category</th>\n",
       "    </tr>\n",
       "  </thead>\n",
       "  <tbody>\n",
       "    <tr>\n",
       "      <th>0</th>\n",
       "      <td>get cheap pills online</td>\n",
       "      <td>0</td>\n",
       "    </tr>\n",
       "    <tr>\n",
       "      <th>1</th>\n",
       "      <td>online pharmacy pills fast</td>\n",
       "      <td>0</td>\n",
       "    </tr>\n",
       "    <tr>\n",
       "      <th>2</th>\n",
       "      <td>online pills fast shipment</td>\n",
       "      <td>0</td>\n",
       "    </tr>\n",
       "    <tr>\n",
       "      <th>3</th>\n",
       "      <td>my pills prescription</td>\n",
       "      <td>1</td>\n",
       "    </tr>\n",
       "    <tr>\n",
       "      <th>4</th>\n",
       "      <td>shipment not fast</td>\n",
       "      <td>1</td>\n",
       "    </tr>\n",
       "    <tr>\n",
       "      <th>5</th>\n",
       "      <td>order pills online</td>\n",
       "      <td>0</td>\n",
       "    </tr>\n",
       "    <tr>\n",
       "      <th>6</th>\n",
       "      <td>fast pills delivery</td>\n",
       "      <td>0</td>\n",
       "    </tr>\n",
       "    <tr>\n",
       "      <th>7</th>\n",
       "      <td>this online pharmacy</td>\n",
       "      <td>1</td>\n",
       "    </tr>\n",
       "    <tr>\n",
       "      <th>8</th>\n",
       "      <td>take your pills</td>\n",
       "      <td>1</td>\n",
       "    </tr>\n",
       "    <tr>\n",
       "      <th>9</th>\n",
       "      <td>get your pills cheap</td>\n",
       "      <td>0</td>\n",
       "    </tr>\n",
       "    <tr>\n",
       "      <th>10</th>\n",
       "      <td>my online order</td>\n",
       "      <td>1</td>\n",
       "    </tr>\n",
       "  </tbody>\n",
       "</table>\n",
       "</div>"
      ],
      "text/plain": [
       "                       Content  Category\n",
       "0       get cheap pills online         0\n",
       "1   online pharmacy pills fast         0\n",
       "2   online pills fast shipment         0\n",
       "3        my pills prescription         1\n",
       "4            shipment not fast         1\n",
       "5           order pills online         0\n",
       "6          fast pills delivery         0\n",
       "7         this online pharmacy         1\n",
       "8              take your pills         1\n",
       "9         get your pills cheap         0\n",
       "10             my online order         1"
      ]
     },
     "execution_count": 2,
     "metadata": {},
     "output_type": "execute_result"
    }
   ],
   "source": [
    "df['Category'] = df['Category'].map({'SPAM': 0, 'HAM': 1})\n",
    "df"
   ]
  },
  {
   "cell_type": "code",
   "execution_count": 3,
   "id": "2f296317",
   "metadata": {},
   "outputs": [
    {
     "data": {
      "text/html": [
       "<div>\n",
       "<style scoped>\n",
       "    .dataframe tbody tr th:only-of-type {\n",
       "        vertical-align: middle;\n",
       "    }\n",
       "\n",
       "    .dataframe tbody tr th {\n",
       "        vertical-align: top;\n",
       "    }\n",
       "\n",
       "    .dataframe thead th {\n",
       "        text-align: right;\n",
       "    }\n",
       "</style>\n",
       "<table border=\"1\" class=\"dataframe\">\n",
       "  <thead>\n",
       "    <tr style=\"text-align: right;\">\n",
       "      <th></th>\n",
       "      <th>X</th>\n",
       "      <th>Y</th>\n",
       "    </tr>\n",
       "  </thead>\n",
       "  <tbody>\n",
       "    <tr>\n",
       "      <th>0</th>\n",
       "      <td>get cheap pills online</td>\n",
       "      <td>0</td>\n",
       "    </tr>\n",
       "    <tr>\n",
       "      <th>1</th>\n",
       "      <td>online pharmacy pills fast</td>\n",
       "      <td>0</td>\n",
       "    </tr>\n",
       "    <tr>\n",
       "      <th>2</th>\n",
       "      <td>online pills fast shipment</td>\n",
       "      <td>0</td>\n",
       "    </tr>\n",
       "    <tr>\n",
       "      <th>3</th>\n",
       "      <td>my pills prescription</td>\n",
       "      <td>1</td>\n",
       "    </tr>\n",
       "    <tr>\n",
       "      <th>4</th>\n",
       "      <td>shipment not fast</td>\n",
       "      <td>1</td>\n",
       "    </tr>\n",
       "    <tr>\n",
       "      <th>5</th>\n",
       "      <td>order pills online</td>\n",
       "      <td>0</td>\n",
       "    </tr>\n",
       "    <tr>\n",
       "      <th>6</th>\n",
       "      <td>fast pills delivery</td>\n",
       "      <td>0</td>\n",
       "    </tr>\n",
       "    <tr>\n",
       "      <th>7</th>\n",
       "      <td>this online pharmacy</td>\n",
       "      <td>1</td>\n",
       "    </tr>\n",
       "    <tr>\n",
       "      <th>8</th>\n",
       "      <td>take your pills</td>\n",
       "      <td>1</td>\n",
       "    </tr>\n",
       "    <tr>\n",
       "      <th>9</th>\n",
       "      <td>get your pills cheap</td>\n",
       "      <td>0</td>\n",
       "    </tr>\n",
       "    <tr>\n",
       "      <th>10</th>\n",
       "      <td>my online order</td>\n",
       "      <td>1</td>\n",
       "    </tr>\n",
       "  </tbody>\n",
       "</table>\n",
       "</div>"
      ],
      "text/plain": [
       "                             X  Y\n",
       "0       get cheap pills online  0\n",
       "1   online pharmacy pills fast  0\n",
       "2   online pills fast shipment  0\n",
       "3        my pills prescription  1\n",
       "4            shipment not fast  1\n",
       "5           order pills online  0\n",
       "6          fast pills delivery  0\n",
       "7         this online pharmacy  1\n",
       "8              take your pills  1\n",
       "9         get your pills cheap  0\n",
       "10             my online order  1"
      ]
     },
     "execution_count": 3,
     "metadata": {},
     "output_type": "execute_result"
    }
   ],
   "source": [
    "df.columns = ['X', 'Y']\n",
    "df"
   ]
  },
  {
   "cell_type": "code",
   "execution_count": 5,
   "id": "796ac5b8",
   "metadata": {},
   "outputs": [
    {
     "data": {
      "text/plain": [
       "['get',\n",
       " 'cheap',\n",
       " 'pills',\n",
       " 'online',\n",
       " 'pharmacy',\n",
       " 'fast',\n",
       " 'shipment',\n",
       " 'my',\n",
       " 'prescription',\n",
       " 'not',\n",
       " 'order',\n",
       " 'delivery',\n",
       " 'this',\n",
       " 'take',\n",
       " 'your']"
      ]
     },
     "execution_count": 5,
     "metadata": {},
     "output_type": "execute_result"
    }
   ],
   "source": [
    "vocabulary = df['X'].str.split(expand=True).stack().unique().tolist()\n",
    "vocabulary"
   ]
  },
  {
   "cell_type": "code",
   "execution_count": 27,
   "id": "5fa7abe3",
   "metadata": {
    "scrolled": true
   },
   "outputs": [
    {
     "data": {
      "text/plain": [
       "<11x15 sparse matrix of type '<class 'numpy.float64'>'\n",
       "\twith 37 stored elements in COOrdinate format>"
      ]
     },
     "execution_count": 27,
     "metadata": {},
     "output_type": "execute_result"
    }
   ],
   "source": [
    "# step 2 get bag of words\n",
    "from scipy.sparse import lil_matrix\n",
    "from nltk.tokenize import word_tokenize\n",
    "# Assuming 'vocabulary' is a list of unique words\n",
    "vocabulary_index = {word: i for i, word in enumerate(vocabulary)}\n",
    "\n",
    "# Create a function to create a binary bag of words using a sparse matrix\n",
    "def create_sparse_binary_bag_of_words(text, vocabulary_index):\n",
    "    # Initialize a sparse matrix with dimensions (1, len(vocabulary))\n",
    "    bag_of_words_sparse = lil_matrix((1, len(vocabulary_index)))\n",
    "#     words = text.split()\n",
    "    words = word_tokenize(text)\n",
    "    for word in words:\n",
    "        if word in vocabulary_index:\n",
    "            bag_of_words_sparse[0, vocabulary_index[word]] = 1\n",
    "    return bag_of_words_sparse\n",
    "\n",
    "# Apply the function to each review in your training set\n",
    "# This will create a list of sparse matrices (one for each review)\n",
    "sparse_bows = df['X'].apply(lambda x: create_sparse_binary_bag_of_words(x, vocabulary_index))\n",
    "\n",
    "# Now, you can combine these into a single sparse matrix\n",
    "from scipy.sparse import vstack\n",
    "X_train = vstack(sparse_bows)\n",
    "X_train"
   ]
  },
  {
   "cell_type": "code",
   "execution_count": 26,
   "id": "990127ed",
   "metadata": {},
   "outputs": [
    {
     "data": {
      "text/plain": [
       "0     0\n",
       "1     0\n",
       "2     0\n",
       "3     1\n",
       "4     1\n",
       "5     0\n",
       "6     0\n",
       "7     1\n",
       "8     1\n",
       "9     0\n",
       "10    1\n",
       "Name: Y, dtype: int64"
      ]
     },
     "execution_count": 26,
     "metadata": {},
     "output_type": "execute_result"
    }
   ],
   "source": [
    "y_train = df['Y']\n",
    "y_train"
   ]
  },
  {
   "cell_type": "code",
   "execution_count": 39,
   "id": "306946ae",
   "metadata": {},
   "outputs": [
    {
     "data": {
      "text/plain": [
       "(0.45454545454545453, 0.5454545454545454)"
      ]
     },
     "execution_count": 39,
     "metadata": {},
     "output_type": "execute_result"
    }
   ],
   "source": [
    "# step 3 construct model\n",
    "num_rows = len(df)\n",
    "num_rows_positive = (df['Y'] == 1).sum()\n",
    "num_rows_negative = (df['Y'] == 0).sum()\n",
    "probability_positive = num_rows_positive/num_rows\n",
    "probability_negative = num_rows_negative/num_rows\n",
    "probability_positive, probability_negative"
   ]
  },
  {
   "cell_type": "code",
   "execution_count": 30,
   "id": "8fe52591",
   "metadata": {},
   "outputs": [
    {
     "data": {
      "text/plain": [
       "array([0, 0, 0, 1, 1, 0, 0, 1, 1, 0, 1], dtype=int64)"
      ]
     },
     "execution_count": 30,
     "metadata": {},
     "output_type": "execute_result"
    }
   ],
   "source": [
    "y_train_array = y_train.to_numpy() if hasattr(y_train, 'to_numpy') else y_train\n",
    "y_train_array"
   ]
  },
  {
   "cell_type": "code",
   "execution_count": 48,
   "id": "1833ac85",
   "metadata": {},
   "outputs": [
    {
     "data": {
      "text/plain": [
       "Y\n",
       "0    22\n",
       "1    15\n",
       "Name: Word_Count, dtype: int64"
      ]
     },
     "execution_count": 48,
     "metadata": {},
     "output_type": "execute_result"
    }
   ],
   "source": [
    "df['Word_Count'] = df['X'].apply(lambda x: len(word_tokenize(x)))\n",
    "word_count_by_y = df.groupby('Y')['Word_Count'].sum()\n",
    "\n",
    "word_count_by_y"
   ]
  },
  {
   "cell_type": "code",
   "execution_count": 47,
   "id": "04fb7760",
   "metadata": {},
   "outputs": [
    {
     "data": {
      "text/plain": [
       "(array([0.03333333, 0.03333333, 0.1       , 0.1       , 0.06666667,\n",
       "        0.06666667, 0.06666667, 0.1       , 0.06666667, 0.06666667,\n",
       "        0.06666667, 0.03333333, 0.06666667, 0.06666667, 0.06666667]),\n",
       " array([0.08108108, 0.08108108, 0.18918919, 0.13513514, 0.05405405,\n",
       "        0.10810811, 0.05405405, 0.02702703, 0.02702703, 0.02702703,\n",
       "        0.05405405, 0.05405405, 0.02702703, 0.02702703, 0.05405405]))"
      ]
     },
     "execution_count": 47,
     "metadata": {},
     "output_type": "execute_result"
    }
   ],
   "source": [
    "import numpy as np\n",
    "X_train_coo = X_train.tocoo()\n",
    "feature_counts_positive = np.zeros(X_train.shape[1])\n",
    "feature_counts_negative = np.zeros(X_train.shape[1])\n",
    "\n",
    "for i, j, v in zip(X_train_coo.row, X_train_coo.col, X_train_coo.data):\n",
    "    if y_train_array[i] == 0:\n",
    "        feature_counts_negative[j] += v\n",
    "    else:\n",
    "        feature_counts_positive[j] += v\n",
    "\n",
    "# Calculate likelihoods with Laplace smoothing --  this is numpy array\n",
    "feature_counts_negative = feature_counts_negative + 1\n",
    "feature_counts_positive = feature_counts_positive + 1\n",
    "likelihoods_negative = (feature_counts_negative) / (word_count_by_y[0] +  len(vocabulary_index))\n",
    "likelihoods_positive = (feature_counts_positive) / (word_count_by_y[1] +  len(vocabulary_index))\n",
    "\n",
    "likelihoods_positive,likelihoods_negative"
   ]
  },
  {
   "cell_type": "code",
   "execution_count": 49,
   "id": "58553412",
   "metadata": {},
   "outputs": [],
   "source": [
    "# prediction\n",
    "def predict(X_new, probability_negative, probability_positive, likelihoods_negative, likelihoods_positive):\n",
    "    # Ensure X_new is in COO format\n",
    "    X_new_coo = X_new.tocoo()\n",
    "    predictions = np.zeros(X_new.shape[0])\n",
    "    \n",
    "    # Log probabilities for numerical stability\n",
    "    log_probability_negative = np.log(probability_negative)\n",
    "    log_probability_positive = np.log(probability_positive)\n",
    "    log_likelihoods_negative = np.log(likelihoods_negative)\n",
    "    log_likelihoods_positive = np.log(likelihoods_positive)\n",
    "\n",
    "    # Calculate log posterior probabilities\n",
    "    for i in range(X_new.shape[0]):\n",
    "        log_posterior_prob_0 = log_probability_negative\n",
    "        log_posterior_prob_1 = log_probability_positive\n",
    "        \n",
    "        for j in range(X_new_coo.nnz):\n",
    "            if X_new_coo.row[j] == i:\n",
    "                feature_index = X_new_coo.col[j]\n",
    "                log_posterior_prob_0 += log_likelihoods_negative[feature_index]\n",
    "                log_posterior_prob_1 += log_likelihoods_positive[feature_index]\n",
    "                \n",
    "        # Classification based on higher log posterior probability\n",
    "        predictions[i] = 1 if log_posterior_prob_1 > log_posterior_prob_0 else 0\n",
    "        \n",
    "    return predictions"
   ]
  },
  {
   "cell_type": "code",
   "execution_count": 50,
   "id": "e3131623",
   "metadata": {},
   "outputs": [
    {
     "data": {
      "text/html": [
       "<div>\n",
       "<style scoped>\n",
       "    .dataframe tbody tr th:only-of-type {\n",
       "        vertical-align: middle;\n",
       "    }\n",
       "\n",
       "    .dataframe tbody tr th {\n",
       "        vertical-align: top;\n",
       "    }\n",
       "\n",
       "    .dataframe thead th {\n",
       "        text-align: right;\n",
       "    }\n",
       "</style>\n",
       "<table border=\"1\" class=\"dataframe\">\n",
       "  <thead>\n",
       "    <tr style=\"text-align: right;\">\n",
       "      <th></th>\n",
       "      <th>X</th>\n",
       "      <th>Y</th>\n",
       "    </tr>\n",
       "  </thead>\n",
       "  <tbody>\n",
       "    <tr>\n",
       "      <th>0</th>\n",
       "      <td>order pills fast</td>\n",
       "      <td>0</td>\n",
       "    </tr>\n",
       "    <tr>\n",
       "      <th>1</th>\n",
       "      <td>no prescription online pharmacy</td>\n",
       "      <td>0</td>\n",
       "    </tr>\n",
       "    <tr>\n",
       "      <th>2</th>\n",
       "      <td>this order was online</td>\n",
       "      <td>1</td>\n",
       "    </tr>\n",
       "  </tbody>\n",
       "</table>\n",
       "</div>"
      ],
      "text/plain": [
       "                                 X  Y\n",
       "0                 order pills fast  0\n",
       "1  no prescription online pharmacy  0\n",
       "2            this order was online  1"
      ]
     },
     "execution_count": 50,
     "metadata": {},
     "output_type": "execute_result"
    }
   ],
   "source": [
    "# Creating the 'test_set' DataFrame\n",
    "test_set_data = {\n",
    "    \"X\": [\n",
    "        \"order pills fast\",\n",
    "        \"no prescription online pharmacy\",\n",
    "        \"this order was online\"\n",
    "    ],\n",
    "    \"Y\": [\"SPAM\", \"SPAM\", \"HAM\"]\n",
    "}\n",
    "\n",
    "test_set = pd.DataFrame(test_set_data)\n",
    "\n",
    "# Converting 'Y' values from 'SPAM'/'HAM' to 0/1\n",
    "test_set['Y'] = test_set['Y'].map({'SPAM': 0, 'HAM': 1})\n",
    "\n",
    "test_set"
   ]
  },
  {
   "cell_type": "code",
   "execution_count": 51,
   "id": "c1449f9e",
   "metadata": {},
   "outputs": [
    {
     "data": {
      "text/plain": [
       "<3x15 sparse matrix of type '<class 'numpy.int64'>'\n",
       "\twith 9 stored elements in Compressed Sparse Row format>"
      ]
     },
     "execution_count": 51,
     "metadata": {},
     "output_type": "execute_result"
    }
   ],
   "source": [
    "X_test = vectorizer.fit_transform(test_set['X'])\n",
    "X_test"
   ]
  },
  {
   "cell_type": "code",
   "execution_count": 52,
   "id": "238420c2",
   "metadata": {},
   "outputs": [
    {
     "data": {
      "text/plain": [
       "array([0., 1., 1.])"
      ]
     },
     "execution_count": 52,
     "metadata": {},
     "output_type": "execute_result"
    }
   ],
   "source": [
    "y_pred_manual = predict(X_test, probability_negative, probability_positive, likelihoods_negative, likelihoods_positive)\n",
    "y_pred_manual"
   ]
  },
  {
   "cell_type": "code",
   "execution_count": 54,
   "id": "e53e4bc5",
   "metadata": {},
   "outputs": [
    {
     "name": "stdout",
     "output_type": "stream",
     "text": [
      "Accuracy: 0.6666666666666666\n"
     ]
    },
    {
     "data": {
      "image/png": "[encoded data removed]",
      "text/plain": [
       "<Figure size 1000x700 with 2 Axes>"
      ]
     },
     "metadata": {},
     "output_type": "display_data"
    }
   ],
   "source": [
    "# Calculate and print the accuracy\n",
    "from sklearn.metrics import accuracy_score\n",
    "y_test = test_set['Y']\n",
    "accuracy = accuracy_score(y_test, y_pred_manual)\n",
    "print(f'Accuracy: {accuracy}')\n",
    "\n",
    "from sklearn.metrics import confusion_matrix\n",
    "import matplotlib.pyplot as plt\n",
    "import seaborn as sns\n",
    "cm = confusion_matrix(y_test, y_pred_manual)\n",
    "# Set the figure size\n",
    "plt.figure(figsize=(10, 7))\n",
    "\n",
    "# Plot the heatmap\n",
    "sns.heatmap(cm, annot=True, fmt='d', cmap='Blues')\n",
    "\n",
    "# Add labels and title for clarity\n",
    "plt.xlabel('Predicted Labels')\n",
    "plt.ylabel('True Labels')\n",
    "plt.title('Confusion Matrix')\n",
    "\n",
    "# Display the plot\n",
    "plt.show()"
   ]
  },
  {
   "cell_type": "code",
   "execution_count": 71,
   "id": "1704a121",
   "metadata": {},
   "outputs": [
    {
     "data": {
      "text/plain": [
       "array([0.])"
      ]
     },
     "execution_count": 71,
     "metadata": {},
     "output_type": "execute_result"
    }
   ],
   "source": [
    "def get_and_classify_user_input():\n",
    "#     user_input = input(\"Please enter a sentence\")\n",
    "    user_input = \"no online pharmacy\"\n",
    "    user_input_data = {user_input}\n",
    "    user_input_df = pd.DataFrame(user_input_data)\n",
    "    user_input_s_array = vectorizer.fit_transform(user_input_df[0])\n",
    "#     user_input_s_array = string_to_sparse_array(user_input)\n",
    "    return predict(user_input_s_array, probability_negative, probability_positive, likelihoods_negative, likelihoods_positive)\n",
    "\n",
    "prediction = get_and_classify_user_input() \n",
    "prediction"
   ]
  }
 ],
 "metadata": {
  "kernelspec": {
   "display_name": "Python 3 (ipykernel)",
   "language": "python",
   "name": "python3"
  },
  "language_info": {
   "codemirror_mode": {
    "name": "ipython",
    "version": 3
   },
   "file_extension": ".py",
   "mimetype": "text/x-python",
   "name": "python",
   "nbconvert_exporter": "python",
   "pygments_lexer": "ipython3",
   "version": "3.8.18"
  }
 },
 "nbformat": 4,
 "nbformat_minor": 5
}
